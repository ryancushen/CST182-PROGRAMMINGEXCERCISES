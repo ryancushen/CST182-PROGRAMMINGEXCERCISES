{
  "nbformat": 4,
  "nbformat_minor": 0,
  "metadata": {
    "colab": {
      "provenance": [],
      "toc_visible": true,
      "include_colab_link": true
    },
    "kernelspec": {
      "name": "python3",
      "display_name": "Python 3"
    },
    "language_info": {
      "name": "python"
    }
  },
  "cells": [
    {
      "cell_type": "markdown",
      "metadata": {
        "id": "view-in-github",
        "colab_type": "text"
      },
      "source": [
        "<a href=\"https://colab.research.google.com/github/ryancushen/CST182-PROGRAMMINGEXCERCISES/blob/main/Ryan_Cushen_(1035373)_CST182_Lab_02_Conditionals.ipynb\" target=\"_parent\"><img src=\"https://colab.research.google.com/assets/colab-badge.svg\" alt=\"Open In Colab\"/></a>"
      ]
    },
    {
      "cell_type": "markdown",
      "source": [
        "# **LAB #02** - CONDITIONALS\n",
        "<br/>\n"
      ],
      "metadata": {
        "id": "qdM8hjkwAnQ5"
      }
    },
    {
      "cell_type": "markdown",
      "source": [
        "><table>\n",
        "##**Lab Overview**\n",
        "\n",
        "These lab questions will help develop your understanding of conditional statements and some of the applications where conditionals are used.  \n",
        "></table>\n",
        "\n",
        "<br/><br/>\n",
        "\n"
      ],
      "metadata": {
        "id": "ax351qT1A2wO"
      }
    },
    {
      "cell_type": "markdown",
      "source": [
        "# **Question #1** - Sort three numbers\n",
        "---\n",
        "<br/>\n",
        "\n",
        "Write a program that asks for three numbers from the user, and prints out the three numbers in ascending order.  <br/><br/>\n",
        "\n",
        "\n",
        "**<u>Example Run:</u>**<br/>\n",
        "Number #1? **9**<br/>\n",
        "Number #1? **3**<br/>\n",
        "Number #1? **5**<br/>\n",
        "Result = 3 5 9<br/>\n",
        "<br/>\n",
        ">**Note:** *You cannot use the `max()` or `min()` functions*\n"
      ],
      "metadata": {
        "id": "f1kwJQuoLhE4"
      }
    },
    {
      "cell_type": "markdown",
      "source": [
        "### Your Answer:"
      ],
      "metadata": {
        "id": "jxaY-33JMb77"
      }
    },
    {
      "cell_type": "code",
      "source": [
        "# Student Name: Ryan Cushen\n",
        "# Student Number: 1035373\n",
        "\n",
        "# Add answer below this line\n",
        "# Ask the user for three numbers\n",
        "a = int(input(\"Number #1? \"))\n",
        "b = int(input(\"Number #2? \"))\n",
        "c = int(input(\"Number #3? \"))\n",
        "\n",
        "# Arrange the numbers in ascending order using swaps\n",
        "if a > b:\n",
        "    a, b = b, a\n",
        "if a > c:\n",
        "    a, c = c, a\n",
        "if b > c:\n",
        "    b, c = c, b\n",
        "\n",
        "# Print the result\n",
        "print(\"Result =\", a, b, c)"
      ],
      "metadata": {
        "id": "Wc7e2wC5McY0"
      },
      "execution_count": null,
      "outputs": []
    },
    {
      "cell_type": "markdown",
      "source": [
        "<Br/><br/>\n"
      ],
      "metadata": {
        "id": "McmLtW4vMjKn"
      }
    },
    {
      "cell_type": "markdown",
      "source": [
        "# **Question #2** - BMI Calculator + Range\n",
        "---\n",
        "\n",
        "<br/>\n",
        "\n",
        "We will take the BMI question from Tutorial #1 and extend its functionality.<br/><br/>\n",
        "\n",
        "> <table><tr><td>\n",
        "\n",
        "<b>Old Tutorial 1 Question</b><Br/><br/>\n",
        "\n",
        "Create a program that calculates a user's BMI. To do this, you will need to take in the users:\n",
        "\n",
        "1.   name\n",
        "2.   height (in meters; e.g., 1.8)\n",
        "3.   weight (in kg; e.g., 60)\n",
        "\n",
        "and then insert the values into the equation: $BMI = \\frac{weight}{height^2}$\n",
        "<br/>\n",
        "<br/>\n",
        "(Note: You can square the height by either multiplying by itself, or using `height**2`)\n",
        "<br/><br/>\n",
        "\n",
        "The output is expected to be similar to:\n",
        "\n",
        "`Hi Luke, your BMI is 23.0`\n",
        "\n",
        "></td></tr></table>\n",
        "\n",
        "<br/><br/>\n",
        "\n",
        "Your job is to update this program so it also shows the range that the calculated BMI falls within. <br/><br/>\n",
        "\n",
        "\n",
        "**<u>Example Run:</u>**<br/>\n",
        "Weight? **180**<br/>\n",
        "Height? **80**<br/>\n",
        "BMI = 24.7<br/>\n",
        "The given BMI is classified as: Healthy<br/>\n",
        "\n",
        ">**Note:** *The ranges haven't been given to you - you need to do a bit of research and add a reference to the site you used in the program comments.*\n",
        "\n",
        "\n",
        "<br/>\n"
      ],
      "metadata": {
        "id": "9ML3CMJVBxuF"
      }
    },
    {
      "cell_type": "markdown",
      "source": [
        "### Your Answer:"
      ],
      "metadata": {
        "id": "gPCRbhBxGMN0"
      }
    },
    {
      "cell_type": "code",
      "execution_count": 5,
      "metadata": {
        "id": "LuZZ6MqZAkbS",
        "colab": {
          "base_uri": "https://localhost:8080/"
        },
        "outputId": "11288052-e002-4910-b4d0-a93a0ad6e6d9"
      },
      "outputs": [
        {
          "output_type": "stream",
          "name": "stdout",
          "text": [
            "What's your name? Ryan\n",
            "What's your height in metres? 1.68\n",
            "What's your weight in kilos? 60\n",
            "Hi Ryan, thanks for your input. Your BMI is 21.26, which is classified as 'Healthy weight'.\n"
          ]
        }
      ],
      "source": [
        "# Student Name: Ryan Cushen\n",
        "# Student Number: 1035373\n",
        "# BMI Ranges Reference URL:https://www.health.gov.au/topics/overweight-and-obesity/bmi-and-waist\n",
        "# Add answer below this line\n",
        "def classify_bmi(bmi):\n",
        "    if bmi < 18.5:\n",
        "        return \"Underweight\"\n",
        "    elif 18.5 <= bmi <= 24.9:\n",
        "        return \"Healthy weight\"\n",
        "    elif 25 <= bmi <= 29.9:\n",
        "        return \"Overweight but not obese\"\n",
        "    elif 30 <= bmi <= 34.9:\n",
        "        return \"Obese class I\"\n",
        "    elif 35 <= bmi <= 39.9:\n",
        "        return \"Obese class II\"\n",
        "    else:\n",
        "        return \"Obese class III\"\n",
        "\n",
        "\n",
        "name = input(\"What's your name? \")\n",
        "height = float(input(\"What's your height in metres? \"))  # Convert to float\n",
        "weight = float(input(\"What's your weight in kilos? \"))  # Convert to float\n",
        "\n",
        "\n",
        "def calculate_bmi(weight, height):\n",
        "    try:\n",
        "        bmi = weight / (height ** 2)\n",
        "        return round(bmi, 2)\n",
        "    except ZeroDivisionError:\n",
        "        return None\n",
        "\n",
        "\n",
        "bmi = calculate_bmi(weight, height)\n",
        "\n",
        "if bmi is not None:\n",
        "    classification = classify_bmi(bmi)\n",
        "    print(f\"Hi {name}, thanks for your input. Your BMI is {bmi}, which is classified as '{classification}'.\")\n",
        "else:\n",
        "    print(\"Height cannot be zero.\")"
      ]
    },
    {
      "cell_type": "markdown",
      "source": [
        "<br/><br/>\n"
      ],
      "metadata": {
        "id": "gPpEwbJeD_qb"
      }
    },
    {
      "cell_type": "markdown",
      "source": [
        "# **Question #3** - Movie tickets\n",
        "---\n",
        "\n",
        "Create a program that calculates the cost of a ticket at the movies. The program asks the person's age. If they are under 18, they get a child's ticket at \\$10.00, and adults pay \\$20.00. However, if a person is over 65, they are asked if they have a concession card, and if so, then receive a \\$15.00 ticket. <br/><br/>\n",
        "\n",
        "**<u>Example Run #1:</u>**<br/>\n",
        "Age? **15**<br/>\n",
        "Ticket = $10.00<br/><br/>\n",
        "\n",
        "**<u>Example Run #2:</u>**<br/>\n",
        "Age? **30**<br/>\n",
        "Ticket = $20.00<br/><br/>\n",
        "\n",
        "**<u>Example Run #3:</u>**<br/>\n",
        "Age? **70**<br/>\n",
        "Concession Card? **Yes**<br/>\n",
        "Ticket = $15.00<br/><br/>\n",
        "\n",
        "**<u>Example Run #4:</u>**<br/>\n",
        "Age? **70**<br/>\n",
        "Concession Card? **No**<br/>\n",
        "Ticket = $20.00<br/><br/>"
      ],
      "metadata": {
        "id": "gJ5eqV6jEA9g"
      }
    },
    {
      "cell_type": "markdown",
      "source": [
        "### Your Answer:"
      ],
      "metadata": {
        "id": "k1Og8sTGGIGP"
      }
    },
    {
      "cell_type": "code",
      "source": [
        "# Student Name: Ryan Cushen\n",
        "# Student Number: 1035373\n",
        "\n",
        "# Add answer below this line\n",
        "def calculate_ticket_price():\n",
        "\n",
        "    age = int(input(\"Age? \"))\n",
        "\n",
        "    if age < 18:\n",
        "        price = 10.00  # Child price\n",
        "    elif age > 65:\n",
        "        concession = input(\"Concession Card? (Yes/No) \")\n",
        "        if concession.lower() == \"yes\":\n",
        "            price = 15.00\n",
        "        else:\n",
        "            price = 20.00\n",
        "    else:\n",
        "        price = 20.00  # Adult price\n",
        "\n",
        "    print(f\"Ticket = ${price:.2f}\")\n",
        "\n",
        "if __name__ == \"__main__\":\n",
        "    calculate_ticket_price()"
      ],
      "metadata": {
        "id": "z4XLivudFpaW",
        "colab": {
          "base_uri": "https://localhost:8080/"
        },
        "outputId": "842411b5-f2c6-4523-9dd2-f9d4b1f2fb1d"
      },
      "execution_count": 1,
      "outputs": [
        {
          "output_type": "stream",
          "name": "stdout",
          "text": [
            "Age? 14\n",
            "Ticket = $10.00\n"
          ]
        }
      ]
    },
    {
      "cell_type": "markdown",
      "source": [
        "<br/><br/>"
      ],
      "metadata": {
        "id": "yNYlz8tFGt0U"
      }
    },
    {
      "cell_type": "markdown",
      "source": [
        "# **Submission**\n",
        "---\n",
        "\n",
        "When you believe you have the program correctly working, please run the program and enter valid details for each program so that the output is apparent.\n",
        "<br/><br/>\n",
        "When you are ready to submit please\n",
        "\n",
        "*   go to `File` -> `Print` -> `Print PDF` and then upload and submit in the LMS.\n",
        "*   save your file to GitHub via: `File` -> `Save a copy in GitHub`\n"
      ],
      "metadata": {
        "id": "CxZ8SilaD9Gq"
      }
    }
  ]
}