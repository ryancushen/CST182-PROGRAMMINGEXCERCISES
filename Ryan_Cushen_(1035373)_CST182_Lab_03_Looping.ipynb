{
  "nbformat": 4,
  "nbformat_minor": 0,
  "metadata": {
    "colab": {
      "provenance": [],
      "toc_visible": true,
      "include_colab_link": true
    },
    "kernelspec": {
      "name": "python3",
      "display_name": "Python 3"
    },
    "language_info": {
      "name": "python"
    }
  },
  "cells": [
    {
      "cell_type": "markdown",
      "metadata": {
        "id": "view-in-github",
        "colab_type": "text"
      },
      "source": [
        "<a href=\"https://colab.research.google.com/github/ryancushen/CST182-PROGRAMMINGEXCERCISES/blob/main/Ryan_Cushen_(1035373)_CST182_Lab_03_Looping.ipynb\" target=\"_parent\"><img src=\"https://colab.research.google.com/assets/colab-badge.svg\" alt=\"Open In Colab\"/></a>"
      ]
    },
    {
      "cell_type": "markdown",
      "source": [
        "# **LAB #03** - Looping\n",
        "<br/>\n"
      ],
      "metadata": {
        "id": "qdM8hjkwAnQ5"
      }
    },
    {
      "cell_type": "markdown",
      "source": [
        "><table>\n",
        "##**Lab Overview**\n",
        "\n",
        "These lab questions will help develop your understanding of how loops work and some of the applications where loops are used.  \n",
        "></table>\n",
        "\n",
        "<br/><br/>\n",
        "\n"
      ],
      "metadata": {
        "id": "ax351qT1A2wO"
      }
    },
    {
      "cell_type": "markdown",
      "source": [
        "# **Question #1** - Aggregates on User Input\n",
        "---\n",
        "<br/>\n",
        "\n",
        "Write a program that takes in from the user a list of marks until the user enters a negative number. Once this is done, the program should calculate and display\n",
        "\n",
        "\n",
        "\n",
        "1.   The number of marks\n",
        "2.   The highest mark\n",
        "3.   The lowest mark\n",
        "4.   The average of the marks\n",
        "\n",
        "(note: You cannot use the `max()` or `min()` functions)\n",
        "\n",
        "<br/>\n",
        "\n",
        "\n",
        "**<u>Example Run:</u>**<br/>\n",
        "Mark #1? **50**<br/>\n",
        "Mark #2? **60**<br/>\n",
        "Mark #3? **-1**<br/>\n",
        "Number of marks = 2<br/>\n",
        "Highest Mark = 60<br/>\n",
        "Lowest Mark = 50<br/>\n",
        "Average Mark = 55<br/>\n",
        "<br/>\n",
        "\n",
        "<Br/>\n",
        "\n",
        "><table>\n",
        "### BONUS\n",
        "---\n",
        "Try and add some validation into the program where if the user enters a mark over 100, a message is sent to the user that lets them know that the mark is invalid (and it doesn't add the mark to the statistics - the program just loops again to get another mark).\n",
        "</table>"
      ],
      "metadata": {
        "id": "f1kwJQuoLhE4"
      }
    },
    {
      "cell_type": "markdown",
      "source": [
        "### Your Answer:"
      ],
      "metadata": {
        "id": "jxaY-33JMb77"
      }
    },
    {
      "cell_type": "code",
      "source": [
        "# Student Name: Ryan Cushen\n",
        "# Student Number: 1035373\n",
        "\n",
        "# Add answer below this line\n",
        "def main():\n",
        "    print(\"Enter marks one by one. Enter a negative number to stop.\")\n",
        "    marks = []          # list to store valid marks\n",
        "    mark_count = 1      # keeps track of input count\n",
        "\n",
        "    while True:\n",
        "        # Prompt the user\n",
        "        user_input = input(f\"Mark #{mark_count}? \")\n",
        "\n",
        "        # Convert the input to an integer, with error checking\n",
        "        try:\n",
        "            mark = int(user_input)\n",
        "        except ValueError:\n",
        "            print(\"Invalid input. Please enter a numeric value.\")\n",
        "            continue\n",
        "\n",
        "        # Check for end condition\n",
        "        if mark < 0:\n",
        "            break\n",
        "\n",
        "        # Check for valid range (0 to 100)\n",
        "        if mark > 100:\n",
        "            print(\"Invalid mark (over 100). Please try again.\")\n",
        "            continue\n",
        "\n",
        "        # Add the valid mark to our list\n",
        "        marks.append(mark)\n",
        "        mark_count += 1\n",
        "\n",
        "    # Once user enters a negative number, we compute and display results\n",
        "    if len(marks) == 0:\n",
        "        print(\"No valid marks entered.\")\n",
        "    else:\n",
        "        # Calculate the highest and lowest marks without using max() or min()\n",
        "        highest_mark = marks[0]\n",
        "        lowest_mark = marks[0]\n",
        "        total = 0\n",
        "\n",
        "        for m in marks:\n",
        "            if m > highest_mark:\n",
        "                highest_mark = m\n",
        "            if m < lowest_mark:\n",
        "                lowest_mark = m\n",
        "            total += m\n",
        "\n",
        "        average_mark = total / len(marks)\n",
        "\n",
        "        # Display results\n",
        "        print(\"\\nSummary\")\n",
        "        print(f\"Number of marks = {len(marks)}\")\n",
        "        print(f\"Highest Mark = {highest_mark}\")\n",
        "        print(f\"Lowest Mark = {lowest_mark}\")\n",
        "        print(f\"Average Mark = {average_mark:.2f}\")\n",
        "\n",
        "if __name__ == \"__main__\":\n",
        "    main()"
      ],
      "metadata": {
        "id": "Wc7e2wC5McY0"
      },
      "execution_count": null,
      "outputs": []
    },
    {
      "cell_type": "markdown",
      "source": [
        "<Br/><br/>\n"
      ],
      "metadata": {
        "id": "McmLtW4vMjKn"
      }
    },
    {
      "cell_type": "markdown",
      "source": [
        "# **Question #2** - Interest Earning Calculator\n",
        "---\n",
        "\n",
        "<br/>\n",
        "\n",
        "Create a program that takes in details of a fixed-term interest saving account (initial balance, number of years, interest rate percentage) and creates a nicely formatted table that shows the details for each year. <br/><br/>\n",
        "\n",
        "\n",
        "**<u>Example Run:</u>**<br/>\n",
        "Balance? **100000**<br/>\n",
        "Years? **10**<br/>\n",
        "Interest Rate(%)? **5**<br/>\n",
        "```\n",
        "Year      Balance     Interest   Total Int.\n",
        "-------------------------------------------\n",
        "   1   105,000.00     5,000.00     5,000.00\n",
        "   2   110,250.00     5,250.00    10,250.00\n",
        "   3   115,762.50     5,512.50    15,762.50\n",
        "   4   121,550.62     5,788.12    21,550.62\n",
        "   5   127,628.16     6,077.53    27,628.16\n",
        "   6   134,009.56     6,381.41    34,009.56\n",
        "   7   140,710.04     6,700.48    40,710.04\n",
        "   8   147,745.54     7,035.50    47,745.54\n",
        "   9   155,132.82     7,387.28    55,132.82\n",
        "  10   162,889.46     7,756.64    62,889.46\n",
        "```\n",
        "\n",
        "<br/><br/>\n"
      ],
      "metadata": {
        "id": "9ML3CMJVBxuF"
      }
    },
    {
      "cell_type": "markdown",
      "source": [
        "### Your Answer:"
      ],
      "metadata": {
        "id": "gPCRbhBxGMN0"
      }
    },
    {
      "cell_type": "code",
      "execution_count": null,
      "metadata": {
        "id": "LuZZ6MqZAkbS"
      },
      "outputs": [],
      "source": [
        "# Student Name: Ryan Cushen\n",
        "# Student Number:1035373\n",
        "\n",
        "# Add answer below this line\n",
        "def fixed_term_savings():\n",
        "    # Get user inputs\n",
        "    principal_str = input(\"Balance? \")\n",
        "    years_str = input(\"Years? \")\n",
        "    rate_str = input(\"Interest Rate(%)? \")\n",
        "\n",
        "    # Convert inputs to proper data types\n",
        "    principal = float(principal_str)\n",
        "    years = int(years_str)\n",
        "    rate = float(rate_str) / 100.0  # Convert percentage to decimal (e.g. 5% -> 0.05)\n",
        "\n",
        "    # Prepare for calculations\n",
        "    total_interest_accumulated = 0.0\n",
        "    current_balance = principal\n",
        "\n",
        "    # Print table header\n",
        "    print(\"\\nYear      Balance     Interest   Total Int.\")\n",
        "    print(\"-------------------------------------------\")\n",
        "\n",
        "    # Calculate and print details for each year\n",
        "    for year in range(1, years + 1):\n",
        "        # Interest for this year\n",
        "        interest = current_balance * rate\n",
        "\n",
        "        # Update total interest\n",
        "        total_interest_accumulated += interest\n",
        "\n",
        "        # Update balance\n",
        "        current_balance += interest\n",
        "\n",
        "        # Print row with formatted values\n",
        "        print(f\"{year:4d}\"\n",
        "              f\" {current_balance:13,.2f}\"\n",
        "              f\" {interest:12,.2f}\"\n",
        "              f\" {total_interest_accumulated:12,.2f}\")\n",
        "\n",
        "# Run the function\n",
        "if __name__ == \"__main__\":\n",
        "    fixed_term_savings()"
      ]
    },
    {
      "cell_type": "markdown",
      "source": [
        "<br/><br/>\n"
      ],
      "metadata": {
        "id": "gPpEwbJeD_qb"
      }
    },
    {
      "cell_type": "markdown",
      "source": [
        "# **Submission**\n",
        "---\n",
        "\n",
        "When you believe you have the program correctly working, please run the program and enter valid details for each program so that the output is apparent.\n",
        "<br/><br/>\n",
        "When you are ready to submit please\n",
        "\n",
        "*   go to `File` -> `Print` -> `Print PDF` and then upload and submit in the LMS.\n",
        "*   save your file to GitHub via: `File` -> `Save a copy in GitHub`\n"
      ],
      "metadata": {
        "id": "CxZ8SilaD9Gq"
      }
    }
  ]
}